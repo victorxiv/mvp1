{
  "nbformat": 4,
  "nbformat_minor": 0,
  "metadata": {
    "colab": {
      "provenance": [],
      "authorship_tag": "ABX9TyMjZjOw7sjrUjkeTt4tGYeX",
      "include_colab_link": true
    },
    "kernelspec": {
      "name": "python3",
      "display_name": "Python 3"
    },
    "language_info": {
      "name": "python"
    }
  },
  "cells": [
    {
      "cell_type": "markdown",
      "metadata": {
        "id": "view-in-github",
        "colab_type": "text"
      },
      "source": [
        "<a href=\"https://colab.research.google.com/github/victorxiv/mvp1/blob/main/Untitled14.ipynb\" target=\"_parent\"><img src=\"https://colab.research.google.com/assets/colab-badge.svg\" alt=\"Open In Colab\"/></a>"
      ]
    },
    {
      "cell_type": "code",
      "execution_count": null,
      "metadata": {
        "id": "XoYQlsOhMvQ4"
      },
      "outputs": [],
      "source": [
        "# Aluno: Victor Carvalho Pires\n",
        "# Trabalho: MVP do Sprint I: Análise de Dados e Boas Práticas\n",
        "\n",
        "# Problema: O presente trabalho busca prever, por meio da análise de dados, se um indivíduo possui câncer de pulmão. Para tanto, utilizamos um dataset disponível \n",
        "# no site Kaggle, que apresenta dados coletados de um sistema online de detecção de câncer de pulmão. \n",
        "\n",
        "# Trata-se de um problema supervisionado do tipo classificação\n",
        "\n",
        "# Importação de pacotes\n",
        "import pandas as pd\n",
        "import numpy as np\n",
        "import matplotlib as mpl\n",
        "import matplotlib.pyplot as plt\n",
        "import seaborn as sns\n",
        "from matplotlib import cm\n",
        "\n",
        "# Configuração para não exibir os warnings\n",
        "import warnings\n",
        "warnings.filterwarnings(\"ignore\")\n",
        "\n",
        "# Carga do dataset \n",
        "# Informa a url de importação do dataset\n",
        "url = \"https://raw.githubusercontent.com/victorxiv/mvp1/survey_lung_cancer.csv\"\n",
        "\n",
        "# Lê o arquivo\n",
        "dataset = pd.read_csv(url, delimiter=',')"
      ]
    }
  ]
}